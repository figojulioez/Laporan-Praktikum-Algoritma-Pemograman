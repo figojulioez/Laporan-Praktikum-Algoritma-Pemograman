{
  "nbformat": 4,
  "nbformat_minor": 0,
  "metadata": {
    "colab": {
      "provenance": [],
      "authorship_tag": "ABX9TyMv/+tDXEjs2W+UVJqzQ4DR",
      "include_colab_link": true
    },
    "kernelspec": {
      "name": "python3",
      "display_name": "Python 3"
    },
    "language_info": {
      "name": "python"
    }
  },
  "cells": [
    {
      "cell_type": "markdown",
      "metadata": {
        "id": "view-in-github",
        "colab_type": "text"
      },
      "source": [
        "<a href=\"https://colab.research.google.com/github/figojulioez/Laporan-Praktikum-Algoritma-Pemograman/blob/main/Tugas%20Week%2012/Week_12.ipynb\" target=\"_parent\"><img src=\"https://colab.research.google.com/assets/colab-badge.svg\" alt=\"Open In Colab\"/></a>"
      ]
    },
    {
      "cell_type": "code",
      "source": [
        "def luasLingkaran() :\n",
        "  jariJari = 0\n",
        "  try :\n",
        "    jariJari = input(\"Masukan jari - jari lingkaran => \")\n",
        "    luas = 3.14 * int(jariJari) * int(jariJari)\n",
        "    print(\"Luas lingkaran => \",luas)\n",
        "  except:\n",
        "    if jariJari == '' :\n",
        "      print(\"Tidak boleh kosong\")\n",
        "    elif not type(jariJari) is int :\n",
        "      print(\"Hanya boleh memasukan angka\")\n",
        "\n",
        "def luasPersegi() :\n",
        "  sisi = 0\n",
        "  try :\n",
        "    sisi = input(\"Masukan sisi persegi => \")\n",
        "    luas = int(sisi) * int(sisi)\n",
        "    print(\"Luas persegi => \",luas)\n",
        "  except :\n",
        "    if sisi == '' :\n",
        "      print(\"Tidak boleh kosong\")\n",
        "    elif not type(sisi) is int :\n",
        "      print(\"Hanya boleh memasukan angka\")\n",
        "\n",
        "def luasSegitiga() :\n",
        "  alas = 0\n",
        "  tinggi = 0\n",
        "\n",
        "  try :\n",
        "    alas = input(\"Masukan alas segitiga => \")\n",
        "    tinggi = input(\"Masukan tinggi segitiga => \")\n",
        "    luas = (int(alas) * int(tinggi)) / 2\n",
        "    print(\"Luas segitiga => \", luas)\n",
        "  except :\n",
        "    if alas == '' or tinggi == \"\":\n",
        "      print(\"Tidak boleh kosong\")\n",
        "    elif not type(alas) is int or not type(tinggi) is int :\n",
        "      print(\"Hanya boleh memasukan angka\")"
      ],
      "metadata": {
        "id": "r3_mglpcHBF_"
      },
      "execution_count": 26,
      "outputs": []
    },
    {
      "cell_type": "code",
      "execution_count": 27,
      "metadata": {
        "colab": {
          "base_uri": "https://localhost:8080/"
        },
        "id": "Uj1ZZa87-LuO",
        "outputId": "8af85910-a476-458c-d1a0-73b5ccedf8ae"
      },
      "outputs": [
        {
          "output_type": "stream",
          "name": "stdout",
          "text": [
            "1. Luas Lingkaran\n",
            "2. Luas Persegi\n",
            "3. Luas Segitiga\n",
            "Pilihlah salah satu dari nomor berikut => 3\n",
            "Masukan alas segitiga => \n",
            "Masukan tinggi segitiga => \n",
            "Tidak boleh kosong\n",
            "Apakah anda sudah selesai (y/n) => n\n",
            " \n",
            "1. Luas Lingkaran\n",
            "2. Luas Persegi\n",
            "3. Luas Segitiga\n",
            "Pilihlah salah satu dari nomor berikut => 3\n",
            "Masukan alas segitiga => 2\n",
            "Masukan tinggi segitiga => \n",
            "Tidak boleh kosong\n",
            "Apakah anda sudah selesai (y/n) => n\n",
            " \n",
            "1. Luas Lingkaran\n",
            "2. Luas Persegi\n",
            "3. Luas Segitiga\n",
            "Pilihlah salah satu dari nomor berikut => \n",
            "Mohon isi dengan benar\n",
            "1. Luas Lingkaran\n",
            "2. Luas Persegi\n",
            "3. Luas Segitiga\n",
            "Pilihlah salah satu dari nomor berikut => 3\n",
            "Masukan alas segitiga => 3\n",
            "Masukan tinggi segitiga => asas\n",
            "Hanya boleh memasukan angka\n",
            "Apakah anda sudah selesai (y/n) => n\n",
            " \n",
            "1. Luas Lingkaran\n",
            "2. Luas Persegi\n",
            "3. Luas Segitiga\n",
            "Pilihlah salah satu dari nomor berikut => 3\n",
            "Masukan alas segitiga => 3\n",
            "Masukan tinggi segitiga => 3\n",
            "Luas segitiga =>  4.5\n",
            "Apakah anda sudah selesai (y/n) => n\n",
            " \n",
            "1. Luas Lingkaran\n",
            "2. Luas Persegi\n",
            "3. Luas Segitiga\n",
            "Pilihlah salah satu dari nomor berikut => 1\n",
            "Masukan jari - jari lingkaran => asas\n",
            "Hanya boleh memasukan angka\n",
            "Apakah anda sudah selesai (y/n) => n\n",
            " \n",
            "1. Luas Lingkaran\n",
            "2. Luas Persegi\n",
            "3. Luas Segitiga\n",
            "Pilihlah salah satu dari nomor berikut => 1\n",
            "Masukan jari - jari lingkaran => \n",
            "Tidak boleh kosong\n",
            "Apakah anda sudah selesai (y/n) => n\n",
            " \n",
            "1. Luas Lingkaran\n",
            "2. Luas Persegi\n",
            "3. Luas Segitiga\n",
            "Pilihlah salah satu dari nomor berikut => 1\n",
            "Masukan jari - jari lingkaran => 1\n",
            "Luas lingkaran =>  3.14\n",
            "Apakah anda sudah selesai (y/n) => y\n",
            " \n"
          ]
        }
      ],
      "source": [
        "\n",
        "def main (stop) :\n",
        "  if stop :\n",
        "    return 0\n",
        "\n",
        "  print(\"1. Luas Lingkaran\")\n",
        "  print(\"2. Luas Persegi\")\n",
        "  print(\"3. Luas Segitiga\")\n",
        "\n",
        "  try :\n",
        "    pilih = int(input(\"Pilihlah salah satu dari nomor berikut => \"))\n",
        "\n",
        "    if (pilih == 1) :\n",
        "      luasLingkaran()\n",
        "    elif (pilih == 2) :\n",
        "      luasPersegi()\n",
        "    elif (pilih == 3) :\n",
        "      luasSegitiga()\n",
        "    else :\n",
        "      print(\"Mohon pilih dari salah satu nomor berikut\")\n",
        "\n",
        "\n",
        "    selesai = True if input(\"Apakah anda sudah selesai (y/n) => \") == \"y\" else False\n",
        "    print(\" \")\n",
        "    main(selesai)\n",
        "\n",
        "  except ValueError:\n",
        "    print(\"Mohon isi dengan benar\")\n",
        "    main(False)\n",
        "\n",
        "\n",
        "\n",
        "main(False)"
      ]
    },
    {
      "cell_type": "code",
      "source": [
        "npm = 0\n",
        "try :\n",
        "  npm = int(input(\"Masukan NPM anda => \"))\n",
        "  npm = str(npm)\n",
        "  genap = 0\n",
        "  ganjil = 0\n",
        "  for i in npm :\n",
        "    if int(i) % 2 == 0 :\n",
        "      genap += 1\n",
        "    else :\n",
        "      ganjil += 1\n",
        "  print(\"Masukan NPM Anda:\", npm)\n",
        "  print(\"Jumlah bilangan genap: \", genap)\n",
        "  print(\"Jumlah bilangan ganjil: \", ganjil)\n",
        "except :\n",
        "  print(\"Error Terjadi\")\n",
        "  raise Exception(\"Ada kesalahan pada input yang anda masukan\")"
      ],
      "metadata": {
        "colab": {
          "base_uri": "https://localhost:8080/"
        },
        "id": "CVyW0pL1G_rP",
        "outputId": "2eab8c18-f217-4d24-e45a-fcd6f1b2f8a0"
      },
      "execution_count": 41,
      "outputs": [
        {
          "output_type": "stream",
          "name": "stdout",
          "text": [
            "Masukan NPM anda => 1212\n",
            "Masukan NPM Anda: 1212\n",
            "Jumlah bilangan genap:  2\n",
            "Jumlah bilangan ganjil:  2\n"
          ]
        }
      ]
    }
  ]
}