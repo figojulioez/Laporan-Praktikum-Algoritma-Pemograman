{
  "nbformat": 4,
  "nbformat_minor": 0,
  "metadata": {
    "colab": {
      "provenance": []
    },
    "kernelspec": {
      "name": "python3",
      "display_name": "Python 3"
    },
    "language_info": {
      "name": "python"
    }
  },
  "cells": [
    {
      "cell_type": "markdown",
      "source": [
        "# Weekly Exercise 1"
      ],
      "metadata": {
        "id": "zEfQJsormNCX"
      }
    },
    {
      "cell_type": "code",
      "source": [
        "def spasi(awal, akhir) :\n",
        "  total = 14;\n",
        "  spasi = total - len(awal) - 2\n",
        "  print(awal, \" \" * spasi,\":\", akhir)\n",
        "  print(\"\")\n",
        "\n",
        "spasi(\"Nama\", \"Julioez Candita Haga Figo Latupeirissa \")\n",
        "spasi(\"NPM\", \"2410506001 \")\n",
        "spasi(\"Alamat\", \"Alamanda Regency Blok C2 No 9, Bekasi, Jawa Barat \")\n",
        "spasi(\"Tinggi Badan\", \"171.1 \")\n",
        "spasi(\"Berat Badan\", \"45 \")\n"
      ],
      "metadata": {
        "colab": {
          "base_uri": "https://localhost:8080/"
        },
        "id": "b04s85V2io8X",
        "outputId": "7db2269e-12a3-4dbc-808b-4b3ebf2ec503"
      },
      "execution_count": null,
      "outputs": [
        {
          "output_type": "stream",
          "name": "stdout",
          "text": [
            "Nama          : Julioez Candita Haga Figo Latupeirissa \n",
            "\n",
            "NPM           : 2410506001 \n",
            "\n",
            "Alamat        : Alamanda Regency Blok C2 No 9, Bekasi, Jawa Barat \n",
            "\n",
            "Tinggi Badan  : 171.1 \n",
            "\n",
            "Berat Badan   : 45 \n",
            "\n"
          ]
        }
      ]
    },
    {
      "cell_type": "markdown",
      "source": [
        "# Weekly Exercise 2"
      ],
      "metadata": {
        "id": "Dh_Pv-qsmXP-"
      }
    },
    {
      "cell_type": "code",
      "source": [
        "def bold(text) :\n",
        "  text = \"\\033[1m\" + text\n",
        "  print(text)\n",
        "\n",
        "def nonbold(text) :\n",
        "  text = \"\\033[0m\" + text\n",
        "  print(text)\n",
        "\n",
        "bold(\"UNIVERSITAS TIDAR \")\n",
        "nonbold(\"Universitas Tidar merupakan Perguruan Tinggi Pemerintah atau Perguruan Tinggi Negeri yang telah ditetapkan berdasarkan Peraturan Presiden Republik Indonesia Nomor 23 Tahun 2014 pada tanggal 1 April 2014.\")\n",
        "print(\"\")\n",
        "bold(\"JURUSAN TEKNIK ELEKTRO, MEKATRONIKA DAN INFORMASI\")\n",
        "nonbold(\"Jurusan Teknik Elektro terdiri atas tiga program studi, antara lain:\")\n",
        "nonbold(\"    1. S1 Teknik Elektro \\x1B[3m(Bachelor of Electrical Engineering)\")\n",
        "nonbold(\"    2. S1 Teknologi Informasi \\x1B[3m(Bachelor of Information Technology)\")\n",
        "nonbold(\"    3. S1 Teknik Mekatronika \\x1B[3m(Bachelor of Mechatronics Engineering)\")\n",
        "print(\"\")"
      ],
      "metadata": {
        "colab": {
          "base_uri": "https://localhost:8080/"
        },
        "id": "_mvzapSGmWXH",
        "outputId": "c0879d75-ca07-4c41-f8f2-846a3bbc41b7"
      },
      "execution_count": null,
      "outputs": [
        {
          "output_type": "stream",
          "name": "stdout",
          "text": [
            "\u001b[1mUNIVERSITAS TIDAR \n",
            "\u001b[0mUniversitas Tidar merupakan Perguruan Tinggi Pemerintah atau Perguruan Tinggi Negeri yang telah ditetapkan berdasarkan Peraturan Presiden Republik Indonesia Nomor 23 Tahun 2014 pada tanggal 1 April 2014.\n",
            "\n",
            "\u001b[1mJURUSAN TEKNIK ELEKTRO, MEKATRONIKA DAN INFORMASI\n",
            "\u001b[0mJurusan Teknik Elektro terdiri atas tiga program studi, antara lain:\n",
            "\u001b[0m    1. S1 Teknik Elektro \u001b[3m(Bachelor of Electrical Engineering)\n",
            "\u001b[0m    2. S1 Teknologi Informasi \u001b[3m(Bachelor of Information Technology)\n",
            "\u001b[0m    3. S1 Teknik Mekatronika \u001b[3m(Bachelor of Mechatronics Engineering)\n",
            "\n"
          ]
        }
      ]
    }
  ]
}