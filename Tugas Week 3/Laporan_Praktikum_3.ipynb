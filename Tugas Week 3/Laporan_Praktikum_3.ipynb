{
  "nbformat": 4,
  "nbformat_minor": 0,
  "metadata": {
    "colab": {
      "provenance": []
    },
    "kernelspec": {
      "name": "python3",
      "display_name": "Python 3"
    },
    "language_info": {
      "name": "python"
    }
  },
  "cells": [
    {
      "cell_type": "code",
      "source": [
        "\n",
        "namaFile = \"Biodata.txt\"\n",
        "nama = \"Julioez Candita Haga Figo Latupeirissa\"\n",
        "ps = \"Teknologi Informasi\"\n",
        "alamat = \"Alamanda Regency Bloc C2 No 9\"\n",
        "hobi = \"Nonton Drama Korea\"\n",
        "email = \"figojulioez@gmail.com\"\n",
        "npm = \"2410506001\"\n",
        "\n",
        "def createFile(namaFile, nama, ps, npm, alamat, hobi, email) :\n",
        "  def spasi(awal, akhir, enter=True) :\n",
        "    total = 20;\n",
        "    spasi = total - len(awal) - 2\n",
        "    return awal + \" \" * spasi + \": \" + akhir + \"\"\n",
        "\n",
        "\n",
        "  with open (namaFile, 'w') as biodata :\n",
        "    biodata.write(spasi(\"Nama\", nama))\n",
        "    biodata.write(\" \\n\")\n",
        "    biodata.write(spasi(\"Program Studi\", ps))\n",
        "    biodata.write(\" \\n\")\n",
        "    biodata.write(spasi(\"NPM\", npm))\n",
        "    biodata.write(\" \\n\")\n",
        "    biodata.write(spasi(\"Alamat\", alamat))\n",
        "    biodata.write(\" \\n\")\n",
        "    biodata.write(spasi(\"Hobi\", hobi))\n",
        "    biodata.write(\" \\n\")\n",
        "    biodata.write(spasi(\"Email\", email))\n",
        "\n",
        "createFile(namaFile, nama, ps, npm, alamat, hobi, email)\n",
        "\n"
      ],
      "metadata": {
        "id": "AwJy2-2BkQi1"
      },
      "execution_count": null,
      "outputs": []
    },
    {
      "cell_type": "code",
      "source": [
        "def readFile (search=[]) :\n",
        "  fileContent = open(namaFile)\n",
        "  rows = fileContent.readlines()\n",
        "  for key in search:\n",
        "    for i in rows :\n",
        "      if key in i :\n",
        "        print(i)\n",
        "        print(\"\")\n",
        "\n",
        "\n",
        "readFile([\"Nama\", \"Program Studi\", \"Email\"])\n"
      ],
      "metadata": {
        "id": "FlQNRXo2pnOg",
        "colab": {
          "base_uri": "https://localhost:8080/"
        },
        "outputId": "df4ba0e2-4a22-4834-cbf3-5e6d54eec559"
      },
      "execution_count": null,
      "outputs": [
        {
          "output_type": "stream",
          "name": "stdout",
          "text": [
            "Nama              : Julioez Candita Haga Figo Latupeirissa \n",
            "\n",
            "\n",
            "Program Studi     : Teknologi Informasi \n",
            "\n",
            "\n",
            "Email             : figojulioez@gmail.com\n",
            "\n"
          ]
        }
      ]
    },
    {
      "cell_type": "code",
      "source": [
        "def copyFile (namaFiles, search) :\n",
        "  fileContent = open(namaFile)\n",
        "  rows = fileContent.readlines()\n",
        "  with open(namaFiles, \"w\") as new :\n",
        "    for key in search :\n",
        "      for i in rows :\n",
        "        if key in i:\n",
        "          new.write(i)\n",
        "          new.write(\" \\n\")\n",
        "\n",
        "\n",
        "copyFile(\"fileBaru\", [\"Nama\", \"NPM\", \"Program Studi\", \"Alamat\"])\n"
      ],
      "metadata": {
        "id": "Rd6IWqBUv1lw"
      },
      "execution_count": null,
      "outputs": []
    },
    {
      "cell_type": "code",
      "execution_count": null,
      "metadata": {
        "colab": {
          "base_uri": "https://localhost:8080/"
        },
        "id": "h8jP45mVhoyt",
        "outputId": "da56b205-32e5-418e-c591-d140d3ce9270"
      },
      "outputs": [
        {
          "output_type": "stream",
          "name": "stdout",
          "text": [
            "Selamat datang di Toko Maju Jaya\n",
            "Senin, 4 September 2023       13.05\n",
            " \n",
            "DAFTAR BELANJA:\n",
            "Sabun        = Rp 10000\n",
            "Shampo       = Rp 15000\n",
            "Mie instant  = Rp 5000\n",
            "Detergen     = Rp 17500\n",
            " \n",
            "Total = Rp  47500\n"
          ]
        }
      ],
      "source": [
        "print(\"Selamat datang di Toko Maju Jaya\")\n",
        "print(\"Senin, 4 September 2023       13.05\")\n",
        "print(\" \")\n",
        "\n",
        "print(\"DAFTAR BELANJA:\")\n",
        "item1 = \"Sabun\"\n",
        "item2 = 'Shampo'\n",
        "item3 = \"Mie instant\"\n",
        "item4 = \"Detergen\"\n",
        "harga1 = 10000\n",
        "harga2 = 15000\n",
        "harga3 = 5000\n",
        "harga4 = 17500\n",
        "\n",
        "total = harga1 + harga2 + harga3 + harga4\n",
        "\n",
        "print(item1 + \"        = Rp\", harga1)\n",
        "print(item2 + \"       = Rp\", harga2)\n",
        "print(item3 + \"  = Rp\", harga3)\n",
        "print(item4 + \"     = Rp\", harga4)\n",
        "\n",
        "print(\" \")\n",
        "print(\"Total = Rp \",total)\n",
        "\n",
        "with open('Kuitansi.txt', 'w') as writefile:\n",
        "        writefile.write(\"Selamat Datang di Toko Maju Jaya\\n\")\n",
        "        writefile.write(\" \\n\")\n",
        "        writefile.write(\"Kuitansi - 4 Septermber 2023\\n\")\n",
        "        writefile.write(\" \\n\")\n",
        "        writefile.write(item1 + \" = Rp {}\".format(harga1) + \"\\n\")\n",
        "        writefile.write(item2 + \" = Rp {}\".format(harga2) + \"\\n\")\n",
        "        writefile.write(item3 + \" = Rp {}\".format(harga3) + \"\\n\")\n",
        "        writefile.write(item4 + \" = Rp {}\".format(harga4) +\"\\n\")\n",
        "        writefile.write(\" \\n\")\n",
        "        writefile.write(\"Total Belanja = {}\".format(total))"
      ]
    },
    {
      "cell_type": "code",
      "source": [],
      "metadata": {
        "id": "1nk9NGejkPJ1"
      },
      "execution_count": null,
      "outputs": []
    },
    {
      "cell_type": "code",
      "source": [],
      "metadata": {
        "id": "Ibs8EmIEj22t"
      },
      "execution_count": null,
      "outputs": []
    }
  ]
}