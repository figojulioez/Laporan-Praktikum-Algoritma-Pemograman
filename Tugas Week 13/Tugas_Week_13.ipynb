{
  "nbformat": 4,
  "nbformat_minor": 0,
  "metadata": {
    "colab": {
      "provenance": [],
      "authorship_tag": "ABX9TyOcDjEJdsBiMM4RcVEKYMbM",
      "include_colab_link": true
    },
    "kernelspec": {
      "name": "python3",
      "display_name": "Python 3"
    },
    "language_info": {
      "name": "python"
    }
  },
  "cells": [
    {
      "cell_type": "markdown",
      "metadata": {
        "id": "view-in-github",
        "colab_type": "text"
      },
      "source": [
        "<a href=\"https://colab.research.google.com/github/figojulioez/Laporan-Praktikum-Algoritma-Pemograman/blob/main/Tugas%20Week%2013/Tugas_Week_13.ipynb\" target=\"_parent\"><img src=\"https://colab.research.google.com/assets/colab-badge.svg\" alt=\"Open In Colab\"/></a>"
      ]
    },
    {
      "cell_type": "code",
      "source": [
        "def spasi(awal, akhir, enter=True) :\n",
        "  total = 70;\n",
        "  spasi = total - len(awal) - 2\n",
        "  print(awal, \" \" * spasi,\":\", akhir)\n",
        "  if enter :\n",
        "    print(\"\")"
      ],
      "metadata": {
        "id": "437i_qcFHTol"
      },
      "execution_count": 4,
      "outputs": []
    },
    {
      "cell_type": "code",
      "execution_count": 24,
      "metadata": {
        "colab": {
          "base_uri": "https://localhost:8080/"
        },
        "id": "6nDRdNCwAZo4",
        "outputId": "e3117731-5bc7-4dba-fea4-963af2ed0853"
      },
      "outputs": [
        {
          "name": "stdout",
          "output_type": "stream",
          "text": [
            "1. Bolpoint :  10\n",
            "2. Pensil :  10\n",
            "3. Penghapus :  10\n",
            "Pilihlah salah satu dari nomor berikut => 1\n",
            "Berapa jumlah pembelian => 1\n",
            "Harga Pembelian anda sebesar                                          : 2000\n",
            "\n",
            "Apakah anda sudah selesai (y/n) => n\n",
            "1. Bolpoint :  9\n",
            "2. Pensil :  10\n",
            "3. Penghapus :  10\n",
            "Pilihlah salah satu dari nomor berikut => 2\n",
            "Berapa jumlah pembelian => 11\n",
            "Stok tidak mencukupi\n",
            "Apakah anda sudah selesai (y/n) => y\n"
          ]
        }
      ],
      "source": [
        "class Fotokopi :\n",
        "  def __init__(self) :\n",
        "    self.barang = {}\n",
        "\n",
        "  def setter(self, nama, stok,hargaSatuan) :\n",
        "    self.barang[nama] = {\n",
        "        'nama' : nama,\n",
        "        'stok' : stok,\n",
        "        'hargaSatuan' : hargaSatuan,\n",
        "    }\n",
        "\n",
        "  def getter(self, nama) :\n",
        "    return self.barang[nama]\n",
        "\n",
        "  def totalHarga(self, nama, jumlah) :\n",
        "    barang = self.barang[nama]\n",
        "    if ( barang['stok'] >= 1 and jumlah <= barang['stok'] ) :\n",
        "      self.barang[nama]['stok'] -= jumlah\n",
        "      spasi(\"Harga Pembelian anda sebesar \", barang['hargaSatuan'] * jumlah)\n",
        "    else :\n",
        "       print(\"Stok tidak mencukupi\")\n",
        "\n",
        "\n",
        "fotokopi = Fotokopi()\n",
        "fotokopi.setter(\"Bolpoint\", 10, 2000)\n",
        "fotokopi.setter(\"Pensil\", 10, 1000)\n",
        "fotokopi.setter(\"Penghapus\", 10, 500)\n",
        "\n",
        "def main (stop) :\n",
        "  barangs = [\"Bolpoint\",\"Pensil\", \"Penghapus\"]\n",
        "  Pensil = fotokopi.getter(\"Pensil\")\n",
        "  Bolpoint = fotokopi.getter(\"Bolpoint\")\n",
        "  Penghapus = fotokopi.getter(\"Penghapus\")\n",
        "\n",
        "  if stop :\n",
        "    return 0\n",
        "\n",
        "  print(\"1. Bolpoint : \" , Bolpoint['stok'])\n",
        "  print(\"2. Pensil : \" , Pensil['stok'])\n",
        "  print(\"3. Penghapus : \" , Penghapus['stok'])\n",
        "\n",
        "\n",
        "  pilih = int(input(\"Pilihlah salah satu dari nomor berikut => \"))\n",
        "  jumlah = int(input(\"Berapa jumlah pembelian => \"))\n",
        "\n",
        "  fotokopi.totalHarga(barangs[pilih - 1], jumlah)\n",
        "\n",
        "  selesai = True if input(\"Apakah anda sudah selesai (y/n) => \") == \"y\" else False\n",
        "  main(selesai)\n",
        "\n",
        "main(False)"
      ]
    },
    {
      "cell_type": "code",
      "source": [],
      "metadata": {
        "id": "BQS6HyfSFRmM"
      },
      "execution_count": null,
      "outputs": []
    }
  ]
}