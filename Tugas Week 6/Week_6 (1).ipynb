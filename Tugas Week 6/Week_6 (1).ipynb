{
  "nbformat": 4,
  "nbformat_minor": 0,
  "metadata": {
    "colab": {
      "provenance": []
    },
    "kernelspec": {
      "name": "python3",
      "display_name": "Python 3"
    },
    "language_info": {
      "name": "python"
    }
  },
  "cells": [
    {
      "cell_type": "code",
      "execution_count": 1,
      "metadata": {
        "id": "V183Ne-bnuoI",
        "colab": {
          "base_uri": "https://localhost:8080/"
        },
        "outputId": "815c95cd-1da6-4330-8503-cf85badb8d3e"
      },
      "outputs": [
        {
          "output_type": "stream",
          "name": "stdout",
          "text": [
            "Masukan jumlah baris bintang => 2\n",
            " *\n",
            "* *\n"
          ]
        }
      ],
      "source": [
        "jmlBintang = int(input(\"Masukan jumlah baris bintang => \"))\n",
        "\n",
        "for i in range(1, jmlBintang + 1) :\n",
        "  bintang = \" \" * (jmlBintang - i)\n",
        "  for l in range(1,i) :\n",
        "    bintang += \"* \"\n",
        "  bintang += \"*\"\n",
        "  print(bintang)"
      ]
    },
    {
      "cell_type": "code",
      "source": [
        "jmlBaris = int(input(\"Masukan jumlah baris segitiga pascal => \"))\n",
        "\n",
        "for i in range(1, jmlBaris + 1) :\n",
        "  string = \"\"\n",
        "  spasi = \" \" * (1 + jmlBaris - i)\n",
        "  arrayPascal = [1]\n",
        "  for k in range (1, i) :\n",
        "    arrayPascal.append(arrayPascal[k - 1] * (i-k) // k)\n",
        "  for l in arrayPascal:\n",
        "    string += \"{} \".format(l)\n",
        "  print(spasi, string)"
      ],
      "metadata": {
        "colab": {
          "base_uri": "https://localhost:8080/"
        },
        "id": "UxYPn90xqqyk",
        "outputId": "10b22450-23a3-44fb-876f-d61721be71fb"
      },
      "execution_count": 2,
      "outputs": [
        {
          "output_type": "stream",
          "name": "stdout",
          "text": [
            "Masukan jumlah baris segitiga pascal => 5\n",
            "      1 \n",
            "     1 1 \n",
            "    1 2 1 \n",
            "   1 3 3 1 \n",
            "  1 4 6 4 1 \n"
          ]
        }
      ]
    },
    {
      "cell_type": "code",
      "source": [
        "pjmlhnBaris = int(input(\"Penjumlahan baris segitiga pascal ke berapa => \"))\n",
        "\n",
        "for i in range(1, pjmlhnBaris + 1) :\n",
        "  string = \"\"\n",
        "  jumlah = 0\n",
        "  arrayPascal = [1]\n",
        "  for k in range (1, i) :\n",
        "    arrayPascal.append(arrayPascal[k - 1] * (i-k) // k)\n",
        "  for l in arrayPascal:\n",
        "    if i == pjmlhnBaris :\n",
        "      string += \"{} \".format(l)\n",
        "      jumlah += l\n",
        "  if i == pjmlhnBaris :\n",
        "    print(string, \"dengan jumlah yaitu => \", jumlah)"
      ],
      "metadata": {
        "id": "Bf3tFkTo0m58",
        "colab": {
          "base_uri": "https://localhost:8080/"
        },
        "outputId": "acddb8a3-431f-452a-a021-3761966c73f8"
      },
      "execution_count": null,
      "outputs": [
        {
          "output_type": "stream",
          "name": "stdout",
          "text": [
            "Penjumlahan baris segitiga pascal ke berapa => 7\n",
            "1 6 15 20 15 6 1  dengan jumlah yaitu =>  64\n"
          ]
        }
      ]
    }
  ]
}