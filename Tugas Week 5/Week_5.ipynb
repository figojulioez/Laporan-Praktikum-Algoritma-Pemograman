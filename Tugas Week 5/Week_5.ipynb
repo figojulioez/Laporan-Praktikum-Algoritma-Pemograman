{
  "nbformat": 4,
  "nbformat_minor": 0,
  "metadata": {
    "colab": {
      "provenance": []
    },
    "kernelspec": {
      "name": "python3",
      "display_name": "Python 3"
    },
    "language_info": {
      "name": "python"
    }
  },
  "cells": [
    {
      "cell_type": "code",
      "execution_count": 1,
      "metadata": {
        "colab": {
          "base_uri": "https://localhost:8080/"
        },
        "id": "Lac_n8iwlVwV",
        "outputId": "afc3fda8-9e9d-458e-ee21-5f3e1677766c"
      },
      "outputs": [
        {
          "output_type": "stream",
          "name": "stdout",
          "text": [
            "Masukan tahun => 2024\n",
            "2024 merupakan tahun kabisat\n"
          ]
        }
      ],
      "source": [
        "tahun = int(input(\"Masukan tahun => \"))\n",
        "\n",
        "if ( tahun % 400 == 0 or tahun % 4 == 0 ) :\n",
        "  print(\"{} merupakan tahun kabisat\".format(tahun))\n",
        "else :\n",
        "  print(\"{} bukan sebuah tahun kabisat\".format(tahun))\n"
      ]
    },
    {
      "cell_type": "code",
      "source": [
        "angka1 = int(input(\"Masukan angka pertama => \"))\n",
        "angka2 = int(input(\"Masukan angka kedua => \"))\n",
        "angka3 = int(input(\"Masukan angka ketiga => \"))\n",
        "\n",
        "if ( angka1 == angka2 and angka1 == angka3) :\n",
        "  print(\"Angka pertama {}, angka kedua {}, angka ketiga {} mempunyai nilai yang sama\".format(angka1, angka2, angka3))\n",
        "elif ( angka1 == angka2) :\n",
        "  if ( angka1 > angka3 ):\n",
        "    print(\"Angka pertama {} dan angka kedua {} memiliki nilai yang sama dan lebih besar dari angka ketiga {}\".format(angka1, angka2, angka3))\n",
        "  else :\n",
        "    print(\"Angka pertama {} dan angka kedua {} memiliki nilai yang sama dan lebih kecil dari angka ketiga {}\".format(angka1, angka2, angka3))\n",
        "elif ( angka1 == angka3 ) :\n",
        "  if ( angka1 > angka2 ) :\n",
        "    print(\"Angka pertama {} dan angka ketiga {} memiliki nilai yang sama dan lebih besar dari angka kedua {}\".format(angka1, angka3, angka2))\n",
        "  else :\n",
        "    print(\"Angka pertama {} dan angka ketiga {} memiliki nilai yang sama dan lebih kecil dari angka kedua {}\".format(angka1, angka3, angka2))\n",
        "elif ( angka2 == angka3 ) :\n",
        "  if ( angka2 > angka1 ) :\n",
        "    print(\"Angka kedua {} dan angka ketiga {} memiliki nilai yang sama dan lebih besar dari angka pertama {}\".format(angka2,angka3, angka1 ))\n",
        "  else :\n",
        "    print(\"Angka kedua {} dan angka ketiga {} memiliki nilai yang sama dan lebih kecil dari angka pertama {}\".format(angka2,angka3, angka1 ))\n",
        "else :\n",
        "  if ( angka1 > angka2 and angka1 > angka3 ) :\n",
        "    print(\"Angka pertama {} merupakan angka terbesar dari angka kedua {} dan angka ketiga {}\".format(angka1, angka2, angka3))\n",
        "  if ( angka2 > angka1 and angka2 > angka3 ) :\n",
        "    print(\"Angka kedua {} merupakan angka terbesar dari angka pertama {} dan angka ketiga {}\".format(angka2, angka1, angka3))\n",
        "  if ( angka3 > angka1 and angka3 > angka2 ) :\n",
        "    print(\"Angka ketiga {} merupakan angka terbesar dari angka pertama {} dan angka kedua {}\".format(angka3, angka1, angka2))\n"
      ],
      "metadata": {
        "colab": {
          "base_uri": "https://localhost:8080/"
        },
        "id": "gCtA1F0ont-R",
        "outputId": "05129e95-1355-497a-82ec-179c1526e317"
      },
      "execution_count": 2,
      "outputs": [
        {
          "output_type": "stream",
          "name": "stdout",
          "text": [
            "Masukan angka pertama => 1\n",
            "Masukan angka kedua => 1\n",
            "Masukan angka ketiga => 1\n",
            "Angka pertama 1, angka kedua 1, angka ketiga 1 mempunyai nilai yang sama\n"
          ]
        }
      ]
    },
    {
      "cell_type": "code",
      "source": [
        "totalBelanja = int(input(\"Berapa total belanja anda => \"))\n",
        "isMember = str(input(\"Apakah anda punya member => (ya/tidak) \").lower())\n",
        "\n",
        "if ( isMember == \"ya\" ) :\n",
        "  print(\"Setiap member berhak mendapatkan diskon 2 persen\")\n",
        "  if ( totalBelanja > 100000 and totalBelanja < 200000) :\n",
        "    print(f\"Anda mendapatkan diskon sebesar 3 persen maka total diskon anda 5 persen\")\n",
        "  elif ( totalBelanja > 200000 ) :\n",
        "    print(f\"Anda mendapatkan diskon sebesar 4 persen maka total diskon anda 6 persen\")\n",
        "  else :\n",
        "    print(\"Anda hanya mendapatkan diskon sebesar 2 persen saja\")\n",
        "else :\n",
        "  print(\"Anda tidak mendapatkan diskon\")"
      ],
      "metadata": {
        "colab": {
          "base_uri": "https://localhost:8080/"
        },
        "id": "4huNzNHuwCDb",
        "outputId": "97f9dc93-3c85-4feb-9a22-fc52e9424bca"
      },
      "execution_count": null,
      "outputs": [
        {
          "output_type": "stream",
          "name": "stdout",
          "text": [
            "Berapa total belanja anda => 120000\n",
            "Apakah anda punya member => (ya/tidak) ya\n",
            "Setiap member berhak mendapatkan diskon 2 persen\n",
            "Anda mendapatkan diskon sebesar 3 persen maka total diskon anda 5 persen\n"
          ]
        }
      ]
    },
    {
      "cell_type": "code",
      "source": [
        "username = str(input(\"Masukan username anda => \"))\n",
        "email = str(input(\"Masukan email anda => \"))\n",
        "password = str(input(\"Masukan password anda => \"))\n",
        "\n",
        "if ( username == \"\" ) :\n",
        "  print(\"username tidak boleh kosong\")\n",
        "elif ( email == \"\" ) :\n",
        "  print(\"email tidak boleh kosong\")\n",
        "elif( password == \"\") :\n",
        "  print(\"password tidak boleh kosong\")\n",
        "elif ( \"@\" not in email ) :\n",
        "  print(\"Tidak ada karakter @\")\n",
        "elif( len(password) < 8 ) :\n",
        "  print(\"Panjang password kurang dari 8\")\n",
        "else :\n",
        "  print(\"Akun berhasil dibuat\")"
      ],
      "metadata": {
        "colab": {
          "base_uri": "https://localhost:8080/"
        },
        "id": "Sn3I2Oxayllb",
        "outputId": "e0b71c27-95f1-4f31-d07e-fa941de162e9"
      },
      "execution_count": 3,
      "outputs": [
        {
          "output_type": "stream",
          "name": "stdout",
          "text": [
            "Masukan username anda => Figo\n",
            "Masukan email anda => figojulioez@gmail.com\n",
            "Masukan password anda => password\n",
            "Akun berhasil dibuat\n"
          ]
        }
      ]
    }
  ]
}