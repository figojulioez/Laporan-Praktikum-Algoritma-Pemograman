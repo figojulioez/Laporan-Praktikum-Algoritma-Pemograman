{
  "nbformat": 4,
  "nbformat_minor": 0,
  "metadata": {
    "colab": {
      "provenance": []
    },
    "kernelspec": {
      "name": "python3",
      "display_name": "Python 3"
    },
    "language_info": {
      "name": "python"
    }
  },
  "cells": [
    {
      "cell_type": "code",
      "execution_count": null,
      "metadata": {
        "colab": {
          "base_uri": "https://localhost:8080/"
        },
        "id": "YUuajoR6jwhO",
        "outputId": "f393a74f-0553-4adc-df8b-2dd5eff93931"
      },
      "outputs": [
        {
          "output_type": "stream",
          "name": "stdout",
          "text": [
            "Masukan umur anda => 17\n",
            "Boleh Membuat SIM\n"
          ]
        }
      ],
      "source": [
        "umur = int(input(\"Masukan umur anda => \"))\n",
        "\n",
        "if (umur >= 17) :\n",
        "    print(\"Boleh Membuat SIM\")\n",
        "else :\n",
        "    print(\"Tidak Boleh Membuat SIM\")\n",
        "\n"
      ]
    },
    {
      "cell_type": "code",
      "source": [
        "nilai = float(input(\"Masukan nilai anda => \"))\n",
        "\n",
        "if ( nilai >= 90 ) :\n",
        "  print(\"Grade = A\")\n",
        "elif ( nilai >= 80 ) :\n",
        "  print(\"Grade = B+\")\n",
        "elif ( nilai >= 70 ) :\n",
        "  print(\"Grade = B\")\n",
        "elif ( nilai >= 60 ) :\n",
        "  print(\"Grade = C+\")\n",
        "elif ( nilai >= 50 ) :\n",
        "  print(\"Grade = C\")\n",
        "elif ( nilai >= 40 ) :\n",
        "  print(\"Grade = D+\")\n",
        "else :\n",
        "  print(\"Grade = E\")"
      ],
      "metadata": {
        "colab": {
          "base_uri": "https://localhost:8080/"
        },
        "id": "0bfOpw4rkdfl",
        "outputId": "dbfff8d6-e938-422b-80eb-8819587ce131"
      },
      "execution_count": null,
      "outputs": [
        {
          "output_type": "stream",
          "name": "stdout",
          "text": [
            "Masukan nilai anda => 72\n",
            "Grade = B\n"
          ]
        }
      ]
    },
    {
      "cell_type": "code",
      "source": [
        "nilai = float(input(\"Masukan nilai anda => \"))\n",
        "\n",
        "if (nilai >= 80.00 and nilai <= 100) :\n",
        "  print(\"Nilai A\")\n",
        "elif (nilai >= 77.50 and nilai <= 79.99) :\n",
        "  print(\"Nilai A-\")\n",
        "elif (nilai >= 75.00 and nilai <= 77.49) :\n",
        "  print(\"Nilai A/B\")\n",
        "elif (nilai >= 72.50 and nilai <= 74.99) :\n",
        "  print(\"Nilai B+\")\n",
        "elif (nilai >= 70.00 and nilai <= 72.49) :\n",
        "  print(\"Nilai B\")\n",
        "elif (nilai >= 67.50 and nilai <= 69.99) :\n",
        "  print(\"Nilai B-\")\n",
        "elif (nilai >= 65.00 and nilai <= 67.49) :\n",
        "  print(\"Nilai B/C\")\n",
        "elif (nilai >= 62.50 and nilai <= 64.99) :\n",
        "  print(\"Nilai C+\")\n",
        "elif (nilai >= 60.00 and nilai <= 62.49) :\n",
        "  print(\"Nilai C\")\n",
        "elif (nilai >= 55.00 and nilai <= 59.99) :\n",
        "  print(\"Nilai C-\")\n",
        "elif (nilai >= 50.00 and nilai <= 54.99) :\n",
        "  print(\"Nilai C/D\")\n",
        "elif (nilai >= 45.00 and nilai <= 49.99) :\n",
        "  print(\"Nilai D+\")\n",
        "elif (nilai >= 40.00 and nilai <= 44.99) :\n",
        "  print(\"Nilai D\")\n",
        "elif (nilai < 40.00) :\n",
        "  print(\"Nilai E\")\n",
        "else :\n",
        "  print(\"Nilai melibihi dari ketentuan\")\n"
      ],
      "metadata": {
        "colab": {
          "base_uri": "https://localhost:8080/"
        },
        "id": "Mpg4OIiQlYi0",
        "outputId": "24048fbc-f491-4ba4-b42d-def56b3fb07d"
      },
      "execution_count": null,
      "outputs": [
        {
          "output_type": "stream",
          "name": "stdout",
          "text": [
            "Masukan nilai anda => 79.99\n",
            "Nilai A-\n"
          ]
        }
      ]
    }
  ]
}