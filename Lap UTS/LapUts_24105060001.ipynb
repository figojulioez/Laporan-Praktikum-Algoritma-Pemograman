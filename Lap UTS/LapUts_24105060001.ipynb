{
  "nbformat": 4,
  "nbformat_minor": 0,
  "metadata": {
    "colab": {
      "provenance": []
    },
    "kernelspec": {
      "name": "python3",
      "display_name": "Python 3"
    },
    "language_info": {
      "name": "python"
    }
  },
  "cells": [
    {
      "cell_type": "code",
      "execution_count": null,
      "metadata": {
        "colab": {
          "base_uri": "https://localhost:8080/"
        },
        "id": "6hy6cZCUuMuF",
        "outputId": "396f5ac9-07a5-4dbb-bf96-6baf81739e17"
      },
      "outputs": [
        {
          "output_type": "stream",
          "name": "stdout",
          "text": [
            "Masukan NPM anda => 1221021029\n",
            "Masukan NPM Anda: 1221021029\n",
            "Jumlah bilangan genap:  6\n",
            "Jumlah bilangan ganjil:  4\n"
          ]
        }
      ],
      "source": [
        "npm = str(input(\"Masukan NPM anda => \"))\n",
        "genap = 0\n",
        "ganjil = 0\n",
        "\n",
        "for i in npm :\n",
        "  if int(i) % 2 == 0 :\n",
        "    genap += 1\n",
        "  else :\n",
        "    ganjil += 1\n",
        "\n",
        "\n",
        "print(\"Masukan NPM Anda:\", npm)\n",
        "print(\"Jumlah bilangan genap: \", genap)\n",
        "print(\"Jumlah bilangan ganjil: \", ganjil)"
      ]
    },
    {
      "cell_type": "code",
      "source": [
        "tinggi = 10\n",
        "for i in range(1, tinggi + 1) :\n",
        "  angka = i;\n",
        "  for y in range (1, i + 1) :\n",
        "    print(angka, \" \", end=\"\")\n",
        "    angka += i\n",
        "  print(\"\")"
      ],
      "metadata": {
        "colab": {
          "base_uri": "https://localhost:8080/"
        },
        "id": "VjZ-davOueYS",
        "outputId": "0f94f3c4-2802-4cc2-a5ab-fa3925b40baf"
      },
      "execution_count": null,
      "outputs": [
        {
          "output_type": "stream",
          "name": "stdout",
          "text": [
            "1  \n",
            "2  4  \n",
            "3  6  9  \n",
            "4  8  12  16  \n",
            "5  10  15  20  25  \n",
            "6  12  18  24  30  36  \n",
            "7  14  21  28  35  42  49  \n",
            "8  16  24  32  40  48  56  64  \n",
            "9  18  27  36  45  54  63  72  81  \n",
            "10  20  30  40  50  60  70  80  90  100  \n"
          ]
        }
      ]
    }
  ]
}