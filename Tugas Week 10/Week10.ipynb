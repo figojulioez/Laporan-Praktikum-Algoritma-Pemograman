{
  "nbformat": 4,
  "nbformat_minor": 0,
  "metadata": {
    "colab": {
      "provenance": []
    },
    "kernelspec": {
      "name": "python3",
      "display_name": "Python 3"
    },
    "language_info": {
      "name": "python"
    }
  },
  "cells": [
    {
      "cell_type": "code",
      "source": [
        "from math import ceil, floor, sin, cos, pi\n",
        "\n",
        "print(\"Module untuk pembulatan ke atas : \", ceil(10.9))\n",
        "print(\"Module untuk pembulatan ke bawah : \", floor(10.9))\n",
        "print(\"Module untuk trigonometri sin : \", sin(30))\n",
        "print(\"Module untuk trigonometri cos : \", cos(30))\n",
        "print(\"Module untuk memberitahu nilai phi : \", pi)\n"
      ],
      "metadata": {
        "colab": {
          "base_uri": "https://localhost:8080/"
        },
        "id": "THV--P399Fha",
        "outputId": "ae8a8c29-9022-40fd-c7bd-54f645f3bdc4"
      },
      "execution_count": 1,
      "outputs": [
        {
          "output_type": "stream",
          "name": "stdout",
          "text": [
            "Module untuk pembulatan ke atas :  11\n",
            "Module untuk pembulatan ke bawah :  10\n",
            "Module untuk trigonometri sin :  -0.9880316240928618\n",
            "Module untuk trigonometri cos :  0.15425144988758405\n",
            "Module untuk memberitahu nilai phi :  3.141592653589793\n"
          ]
        }
      ]
    },
    {
      "cell_type": "code",
      "source": [
        "from matematika import PHI, luasLingkaran, luasPersegi\n",
        "\n",
        "print(\"Nilai PHI : \", PHI)\n",
        "print(\"Luas Lingkaran : \", luasLingkaran(PHI, 7))\n",
        "print(\"Luas Persegi : \", luasPersegi(5))\n"
      ],
      "metadata": {
        "colab": {
          "base_uri": "https://localhost:8080/"
        },
        "id": "8W-qZl9wEByr",
        "outputId": "edda8bdf-2960-4f85-d971-5d4c6a73d489"
      },
      "execution_count": 3,
      "outputs": [
        {
          "output_type": "stream",
          "name": "stdout",
          "text": [
            "Nilai PHI :  3.14\n",
            "Luas Lingkaran :  153.86\n",
            "Luas Persegi :  25\n"
          ]
        }
      ]
    }
  ]
}