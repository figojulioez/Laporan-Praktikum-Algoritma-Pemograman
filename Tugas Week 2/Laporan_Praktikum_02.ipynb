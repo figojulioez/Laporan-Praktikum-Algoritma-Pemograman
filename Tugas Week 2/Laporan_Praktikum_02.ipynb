{
  "nbformat": 4,
  "nbformat_minor": 0,
  "metadata": {
    "colab": {
      "provenance": []
    },
    "kernelspec": {
      "name": "python3",
      "display_name": "Python 3"
    },
    "language_info": {
      "name": "python"
    }
  },
  "cells": [
    {
      "cell_type": "markdown",
      "source": [
        "# Weekly 1"
      ],
      "metadata": {
        "id": "FUTxCa7G26Ro"
      }
    },
    {
      "cell_type": "code",
      "execution_count": null,
      "metadata": {
        "colab": {
          "base_uri": "https://localhost:8080/"
        },
        "id": "ikW6yBpeuxwY",
        "outputId": "16b9dae7-0e7f-481c-9761-0db4ceaa9486"
      },
      "outputs": [
        {
          "output_type": "stream",
          "name": "stdout",
          "text": [
            "Panjang =  20.5\n",
            "Lebar =  25\n",
            "Tinggi =  10\n",
            "Keliling =  91.0\n",
            "Volume =  5125.0\n"
          ]
        }
      ],
      "source": [
        "panjang = 20.5\n",
        "lebar = 25\n",
        "tinggi = 10\n",
        "\n",
        "keliling = 2*(panjang+lebar)\n",
        "luas = panjang * lebar\n",
        "volume = panjang * lebar * tinggi\n",
        "\n",
        "print(\"Panjang = \" , panjang)\n",
        "print(\"Lebar = \" , lebar)\n",
        "print(\"Tinggi = \" , tinggi)\n",
        "print(\"Keliling = \"  , keliling)\n",
        "print(\"Volume = \" , volume)"
      ]
    },
    {
      "cell_type": "code",
      "source": [
        "def spasi(awal, akhir, enter=True) :\n",
        "  total = 70;\n",
        "  spasi = total - len(awal) - 2\n",
        "  print(awal, \" \" * spasi,\":\", akhir)\n",
        "  if enter :\n",
        "    print(\"\")"
      ],
      "metadata": {
        "id": "M4MJD9RKyJ6P"
      },
      "execution_count": 2,
      "outputs": []
    },
    {
      "cell_type": "code",
      "source": [],
      "metadata": {
        "id": "qtQLR7LElELK"
      },
      "execution_count": null,
      "outputs": []
    },
    {
      "cell_type": "markdown",
      "source": [
        "# Weekly 2"
      ],
      "metadata": {
        "id": "GJlAkKdt3AiQ"
      }
    },
    {
      "cell_type": "code",
      "source": [
        "# Rata- rata nilai Shafira\n",
        "print(\"1. Rata-rata nilai Shafira pada kedua mata kuliah\")\n",
        "rataRataNilaiShafira = float((85 + 75) / 2)\n",
        "spasi(\"Rata - rata nilai Shafira\", rataRataNilaiShafira)\n",
        "\n",
        "# Jumlah Nilai Hanif dan Andi\n",
        "print(\"2. Jumlah nilai Hanif dan Andi untuk semua mata kuliah\")\n",
        "jumlahNilaiHanifDanAndi = float(75 + 90 + 70 + 75)\n",
        "spasi(\"Jumlah Nilai Hanif dan Andi untuk semua Matakuliah\", jumlahNilaiHanifDanAndi)\n",
        "\n",
        "# Rata -rata Nilai Widya Dhanar Hikma dan Nedia Kalkulus 1 dan Metode Statistika\n",
        "print(\"3. Rata-rata nilai Widya, Dhanar, Hikma dan Nedia pada masing-masing mata kuliah\")\n",
        "rataRataNilaiWidyaDhanarHikmaDanNediaKalkulus1 = float((85 + 85 + 80 + 95) / 4)\n",
        "rataRataNilaiWidyaDhanarHikmaDanNediaMetodeStatistika = float((85 + 85 + 75 + 80) / 4)\n",
        "spasi(\"Rata - rata Widya,Dhanar,Hikma,dan Nedia untuk Kalkulus1\",rataRataNilaiWidyaDhanarHikmaDanNediaKalkulus1)\n",
        "spasi(\"Rata - rata Widya,Dhanar,Hikma,dan Nedia untuk Statistika\",rataRataNilaiWidyaDhanarHikmaDanNediaMetodeStatistika)\n",
        "\n",
        "# Rata - rata NILAI KALKULUS\n",
        "print(\"4. Rata-rata nilai mata kuliah Kalkulus 1 untuk semua mahasiswa\")\n",
        "rataRataKalkulus1Mahasiswa = float((85 + 80 + 75 + 95 + 85 + 75 + 70 + 85 + 80) / 9)\n",
        "spasi(\"Rata - rata nilai Kalkulus 1 Mahasiswa\", rataRataKalkulus1Mahasiswa)\n",
        "\n",
        "# Rata - rata Nilai Metode Statistika\n",
        "print(\"5. Rata-rata nilai mata kuliah Kalkulus 1 untuk semua mahasiswa\")\n",
        "rataRataMetodeStatistikaMahasiswa = float((75 + 90 + 80 + 80 + 85 + 90 + 75 + 85 + 75) / 9)\n",
        "spasi(\"Rata - rata nilai Metode Statistik\", rataRataMetodeStatistikaMahasiswa)\n"
      ],
      "metadata": {
        "colab": {
          "base_uri": "https://localhost:8080/"
        },
        "id": "GqWbRzsvxK9Q",
        "outputId": "cd793caa-60d1-4711-e95a-569feb50ee19"
      },
      "execution_count": null,
      "outputs": [
        {
          "output_type": "stream",
          "name": "stdout",
          "text": [
            "1. Rata-rata nilai Shafira pada kedua mata kuliah\n",
            "Rata - rata nilai Shafira                                   : 80.0\n",
            "\n",
            "2. Jumlah nilai Hanif dan Andi untuk semua mata kuliah\n",
            "Jumlah Nilai Hanif dan Andi untuk semua Matakuliah          : 310.0\n",
            "\n",
            "3. Rata-rata nilai Widya, Dhanar, Hikma dan Nedia pada masing-masing mata kuliah\n",
            "Rata - rata Widya,Dhanar,Hikma,dan Nedia untuk Kalkulus1    : 86.25\n",
            "\n",
            "Rata - rata Widya,Dhanar,Hikma,dan Nedia untuk Statistika   : 81.25\n",
            "\n",
            "4. Rata-rata nilai mata kuliah Kalkulus 1 untuk semua mahasiswa\n",
            "Rata - rata nilai Kalkulus 1 Mahasiswa                      : 81.11111111111111\n",
            "\n",
            "5. Rata-rata nilai mata kuliah Kalkulus 1 untuk semua mahasiswa\n",
            "Rata - rata nilai Metode Statistik                          : 81.66666666666667\n",
            "\n"
          ]
        }
      ]
    },
    {
      "cell_type": "markdown",
      "source": [
        "# Weekly 3"
      ],
      "metadata": {
        "id": "2V0jwDII3HTX"
      }
    },
    {
      "cell_type": "code",
      "source": [
        "# Jawaban Pertama\n",
        "\n",
        "agustus = 31\n",
        "sabtuMinggu = 8\n",
        "tidakMasukKerja = 3\n",
        "gaji = 8 * 30000          # 240.000\n",
        "gajiKalauLibur = gaji * (agustus - (tidakMasukKerja + sabtuMinggu) )\n",
        "gajiKalauTidakLibur = gaji * (agustus - tidakMasukKerja)\n",
        "\n",
        "spasi(\"Gaji yang di terima Dewi kalau sabtu minggu libur\", gajiKalauLibur)\n",
        "spasi(\"Gaji yang di terima Dewi kalau sabtu minggu tidak libur\", gajiKalauTidakLibur)\n",
        "\n",
        "# Jawaban Kedua\n",
        "gajiLiburTujangan = float(gajiKalauLibur * (10/100))\n",
        "gajiTidakLiburTujangan = float(gajiKalauTidakLibur * (10/100))\n",
        "spasi(\"Tunjangan pada bulan agustus adalah kalau sabtu minggu libur\", gajiLiburTujangan, False)\n",
        "spasi(\"Dan berarti Gaji yang di terima adalah\",gajiLiburTujangan + gajiKalauLibur)\n",
        "spasi(\"Tunjangan pada bulan agustus adalah kalau tidak libur\", gajiTidakLiburTujangan, False)\n",
        "spasi(\"Dan berarti Gaji yang di terima adalah\",gajiTidakLiburTujangan + gajiKalauTidakLibur)\n",
        "\n",
        "# Jawaban Ketiga\n",
        "gajiLemburKalauLibur = (5 * 10000)\n",
        "gajiLemburKalauTidakLibur = (5 * 10000)\n",
        "gajiLemburKalauLibur += gajiKalauLibur + gajiLiburTujangan\n",
        "gajiLemburKalauTidakLibur += gajiKalauTidakLibur + gajiTidakLiburTujangan\n",
        "\n",
        "spasi(\"Gaji yang total yang di terima Dewi (Tunjangan, Lembur, \\n tidak masuk selama 3 hari) Apabila Sabtu Minggu Libur\", gajiLemburKalauLibur)\n",
        "spasi(\"Gaji yang total yang di terima Dewi (Tunjangan, Lembur, \\n tidak masuk selama 3 hari) Apabila Sabtu Minggu Tidak Libur\", gajiLemburKalauTidakLibur)\n",
        "\n"
      ],
      "metadata": {
        "colab": {
          "base_uri": "https://localhost:8080/"
        },
        "id": "Cv9QU41w2WsI",
        "outputId": "25d4e1a7-1c72-496d-b079-6531ed9c5978"
      },
      "execution_count": 3,
      "outputs": [
        {
          "output_type": "stream",
          "name": "stdout",
          "text": [
            "Gaji yang di terima Dewi kalau sabtu minggu libur                     : 4800000\n",
            "\n",
            "Gaji yang di terima Dewi kalau sabtu minggu tidak libur               : 6720000\n",
            "\n",
            "Tunjangan pada bulan agustus adalah kalau sabtu minggu libur          : 480000.0\n",
            "Dan berarti Gaji yang di terima adalah                                : 5280000.0\n",
            "\n",
            "Tunjangan pada bulan agustus adalah kalau tidak libur                 : 672000.0\n",
            "Dan berarti Gaji yang di terima adalah                                : 7392000.0\n",
            "\n",
            "Gaji yang total yang di terima Dewi (Tunjangan, Lembur, \n",
            " tidak masuk selama 3 hari) Apabila Sabtu Minggu Libur  : 5330000.0\n",
            "\n",
            "Gaji yang total yang di terima Dewi (Tunjangan, Lembur, \n",
            " tidak masuk selama 3 hari) Apabila Sabtu Minggu Tidak Libur  : 7442000.0\n",
            "\n"
          ]
        }
      ]
    }
  ]
}