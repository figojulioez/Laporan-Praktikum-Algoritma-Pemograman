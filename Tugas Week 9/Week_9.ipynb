{
  "nbformat": 4,
  "nbformat_minor": 0,
  "metadata": {
    "colab": {
      "provenance": [],
      "authorship_tag": "ABX9TyNQ8LKE7uy7fkgT3DVFHBWb",
      "include_colab_link": true
    },
    "kernelspec": {
      "name": "python3",
      "display_name": "Python 3"
    },
    "language_info": {
      "name": "python"
    }
  },
  "cells": [
    {
      "cell_type": "markdown",
      "metadata": {
        "id": "view-in-github",
        "colab_type": "text"
      },
      "source": [
        "<a href=\"https://colab.research.google.com/github/figojulioez/Laporan-Praktikum-Algoritma-Pemograman/blob/main/Tugas%20Week%209/Week_9.ipynb\" target=\"_parent\"><img src=\"https://colab.research.google.com/assets/colab-badge.svg\" alt=\"Open In Colab\"/></a>"
      ]
    },
    {
      "cell_type": "code",
      "execution_count": null,
      "metadata": {
        "colab": {
          "base_uri": "https://localhost:8080/"
        },
        "id": "ryzruBY64fTK",
        "outputId": "2dcc800b-f676-4ae0-d802-1e963b0f7afa"
      },
      "outputs": [
        {
          "output_type": "execute_result",
          "data": {
            "text/plain": [
              "3628800"
            ]
          },
          "metadata": {},
          "execution_count": 2
        }
      ],
      "source": [
        "def faktorial(n):\n",
        "    if n == 1:\n",
        "        return 1\n",
        "    else:\n",
        "        return (n * faktorial(n-1))\n",
        "\n",
        "faktorial(10)"
      ]
    },
    {
      "cell_type": "code",
      "source": [
        "def luasLingkaran() :\n",
        "  jariJari = float(input(\"Masukan jari - jari lingkaran => \"))\n",
        "  luas = 3.14 * jariJari * jariJari\n",
        "  print(\"Luas lingkaran => \",luas)\n",
        "\n",
        "def luasPesergi() :\n",
        "  sisi = float(input(\"Masukan sisi persegi => \"))\n",
        "  luas = sisi * sisi\n",
        "  print(\"Luas persegi => \",luas)\n",
        "\n",
        "def luasSegitiga() :\n",
        "  alas = float(input(\"Masukan alas segitiga => \"))\n",
        "  tinggi = float(input(\"Masukan tinggi segitiga => \"))\n",
        "  luas = (alas * tinggi) / 2\n",
        "  print(\"Luas segitiga => \", luas)\n",
        "\n",
        "def main (stop) :\n",
        "  if stop :\n",
        "    return 0\n",
        "\n",
        "  print(\"1. Luas Lingkaran\")\n",
        "  print(\"2. Luas Persegi\")\n",
        "  print(\"3. Luas Segitiga\")\n",
        "  pilih = int(input(\"Pilihlah salah satu dari nomor berikut => \"))\n",
        "\n",
        "  if (pilih == 1) :\n",
        "    luasLingkaran()\n",
        "  elif (pilih == 2) :\n",
        "    luasPesergi()\n",
        "  elif (pilih == 3) :\n",
        "    luasSegitiga()\n",
        "  else :\n",
        "    print(\"Mohon pilih dari salah satu nomor berikut\")\n",
        "\n",
        "\n",
        "  selesai = True if input(\"Apakah anda sudah selesai (y/n) => \") == \"y\" else False\n",
        "  print(\" \")\n",
        "  main(selesai)\n",
        "\n",
        "main(False)"
      ],
      "metadata": {
        "colab": {
          "base_uri": "https://localhost:8080/"
        },
        "id": "7b_JAFLb5ai6",
        "outputId": "aaedb5b3-231f-4ba1-98e9-5b940f60cc17"
      },
      "execution_count": null,
      "outputs": [
        {
          "output_type": "stream",
          "name": "stdout",
          "text": [
            "1. Luas Lingkaran\n",
            "2. Luas Persegi\n",
            "3. Luas Segitiga\n",
            "Pilihlah salah satu dari nomor berikut => 4\n",
            "Mohon pilih dari salah satu nomor berikut\n",
            "1. Luas Lingkaran\n",
            "2. Luas Persegi\n",
            "3. Luas Segitiga\n",
            "Pilihlah salah satu dari nomor berikut => 2\n",
            "Masukan sisi persegi => 2\n",
            "Luas persegi =>  4.0\n",
            "Apakah anda sudah selesai (y/n) => y\n",
            " \n",
            "Apakah anda sudah selesai (y/n) => y\n",
            " \n"
          ]
        }
      ]
    },
    {
      "cell_type": "code",
      "source": [],
      "metadata": {
        "id": "YzgB4PKL8xl2"
      },
      "execution_count": null,
      "outputs": []
    }
  ]
}