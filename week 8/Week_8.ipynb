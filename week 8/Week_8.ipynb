{
  "nbformat": 4,
  "nbformat_minor": 0,
  "metadata": {
    "colab": {
      "provenance": [],
      "authorship_tag": "ABX9TyNvSrvkg8Za0DSJN0IfdUPP",
      "include_colab_link": true
    },
    "kernelspec": {
      "name": "python3",
      "display_name": "Python 3"
    },
    "language_info": {
      "name": "python"
    }
  },
  "cells": [
    {
      "cell_type": "markdown",
      "metadata": {
        "id": "view-in-github",
        "colab_type": "text"
      },
      "source": [
        "<a href=\"https://colab.research.google.com/github/figojulioez/Laporan-Praktikum-Algoritma-Pemograman/blob/main/week%208/Week_8.ipynb\" target=\"_parent\"><img src=\"https://colab.research.google.com/assets/colab-badge.svg\" alt=\"Open In Colab\"/></a>"
      ]
    },
    {
      "cell_type": "markdown",
      "source": [
        "# Sebutkan dan jelaskan perbedaan dari list, tuple, set dan dictionary dalam python\n",
        "\n",
        "## List\n",
        "\n",
        "\n",
        "1.   Menggunakan Kurung Siku [1,2,3]\n",
        "2.   Di definisikan berurutan dan urutanya tidak pernah berubah dimulai dari index 0\n",
        "3.   Item pada list bisa diubah\n",
        "4.   Menyetujui data yang duplikat\n",
        "\n",
        "## Tupple\n",
        "\n",
        "\n",
        "1.   Menggunakan tanda kurung (1,2,3,4)\n",
        "2.   Di definisikan berurutan dan urutanya tidak pernah berubah dimulai dari index 0\n",
        "3.   Item pada tupple tidak bisa diubah (Hanya bisa menambahkan item)\n",
        "4.   Menyetujui data yang duplikat\n",
        "\n",
        "## Set\n",
        "\n",
        "\n",
        "1.   Menggunakan Kurung kuruawal {1,2,3}\n",
        "2.   Di definisikan tidak berurutan tidak memiliki index\n",
        "3.   Item pada set tidak bisa diubah (Hanya bisa menambahkan item, dan menghapus utem terakhir dan menhapus semuanya)\n",
        "4.   Tidak menyetujui data yang duplikat\n",
        "\n",
        "\n",
        "## Dictionary\n",
        "\n",
        "\n",
        "\n",
        "1.   Menggunakan Kurung kuruawal {\"nama\": \"Figo\"}\n",
        "2.   Di definisikan tidak berurutan dan dan berurutan (Indexnya bisa dibuat sendiri)\n",
        "3.   Item pada dictionary bisa diubah\n",
        "4.   Tidak menyetujui data yang duplikat\n",
        "\n",
        "\n",
        "\n",
        "\n",
        "\n",
        "\n",
        "\n",
        "\n",
        "\n"
      ],
      "metadata": {
        "id": "XmcLQJ8C1YNW"
      }
    },
    {
      "cell_type": "code",
      "source": [
        "daftarNamaMahasiswa = [\n",
        "    {\n",
        "        \"namaMahasiswa\" : \"Julioez Candita Haga Figo Latupeirissa\",\n",
        "        \"kelas\" : \"Rombel 1\",\n",
        "        \"tanggalLahir\" : \"Bekasi 07 Juli 2006\",\n",
        "        \"noHp\" : \"0812345667890\",\n",
        "        \"alamat\" : \"Alamanda Regency Blok C2 No 9\",\n",
        "        \"hobi\" : [\n",
        "            \"Nonton Drakor\",\n",
        "            \"Nonton Dracin\",\n",
        "            \"Nonton Anime\"\n",
        "        ]\n",
        "    },\n",
        "    {\n",
        "        \"namaMahasiswa\" : \"Julioez Candita Haga Figo Latupeirissa\",\n",
        "        \"kelas\" : \"Rombel 1\",\n",
        "        \"tanggalLahir\" : \"Bekasi 07 Juli 2006\",\n",
        "        \"noHp\" : \"0812345667890\",\n",
        "        \"alamat\" : \"Alamanda Regency Blok C2 No 9\",\n",
        "        \"hobi\" : [\n",
        "            \"Nonton Drakor\",\n",
        "            \"Nonton Dracin\",\n",
        "            \"Nonton Anime\"\n",
        "        ]\n",
        "    },\n",
        "    {\n",
        "        \"namaMahasiswa\" : \"Julioez Candita Haga Figo Latupeirissa\",\n",
        "        \"kelas\" : \"Rombel 1\",\n",
        "        \"tanggalLahir\" : \"Bekasi 07 Juli 2006\",\n",
        "        \"noHp\" : \"0812345667890\",\n",
        "        \"alamat\" : \"Alamanda Regency Blok C2 No 9\",\n",
        "        \"hobi\" : [\n",
        "            \"Nonton Drakor\",\n",
        "            \"Nonton Dracin\",\n",
        "            \"Nonton Anime\"\n",
        "        ]\n",
        "    }\n",
        "\n",
        "]\n",
        "\n",
        "\n",
        "\n",
        "for data in daftarNamaMahasiswa :\n",
        "  print(\"Nama Mahasiswa \",data[\"namaMahasiswa\"])\n",
        "  print(\"Kelas \", data[\"kelas\"])\n",
        "  print(\"Tanggal Lahir \", data[\"tanggalLahir\"])\n",
        "  print(\"No HP \", data[\"noHp\"])\n",
        "  print(\"Alamat \", data[\"alamat\"])\n",
        "  print(\"Hobi \", end=\"\")\n",
        "  for dataHobi in data[\"hobi\"] :\n",
        "    print(dataHobi, \" \", end=\"\")\n",
        "  print(\" \")\n",
        "  print(\" \")\n",
        "\n"
      ],
      "metadata": {
        "colab": {
          "base_uri": "https://localhost:8080/"
        },
        "id": "R2ifnzWc4Qvs",
        "outputId": "7a68f709-e759-4816-a8b2-0567c824c82f"
      },
      "execution_count": 9,
      "outputs": [
        {
          "output_type": "stream",
          "name": "stdout",
          "text": [
            "Nama Mahasiswa  Julioez Candita Haga Figo Latupeirissa\n",
            "Kelas  Rombel 1\n",
            "Tanggal Lahir  Bekasi 07 Juli 2006\n",
            "No HP  0812345667890\n",
            "Alamat  Alamanda Regency Blok C2 No 9\n",
            "Hobi Nonton Drakor  Nonton Dracin  Nonton Anime   \n",
            " \n",
            "Nama Mahasiswa  Julioez Candita Haga Figo Latupeirissa\n",
            "Kelas  Rombel 1\n",
            "Tanggal Lahir  Bekasi 07 Juli 2006\n",
            "No HP  0812345667890\n",
            "Alamat  Alamanda Regency Blok C2 No 9\n",
            "Hobi Nonton Drakor  Nonton Dracin  Nonton Anime   \n",
            " \n",
            "Nama Mahasiswa  Julioez Candita Haga Figo Latupeirissa\n",
            "Kelas  Rombel 1\n",
            "Tanggal Lahir  Bekasi 07 Juli 2006\n",
            "No HP  0812345667890\n",
            "Alamat  Alamanda Regency Blok C2 No 9\n",
            "Hobi Nonton Drakor  Nonton Dracin  Nonton Anime   \n",
            " \n"
          ]
        }
      ]
    },
    {
      "cell_type": "code",
      "source": [],
      "metadata": {
        "id": "E-2jY0nz5uuI"
      },
      "execution_count": null,
      "outputs": []
    }
  ]
}